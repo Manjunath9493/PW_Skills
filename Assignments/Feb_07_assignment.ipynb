{
 "cells": [
  {
   "cell_type": "markdown",
   "metadata": {},
   "source": [
    "Q1. You are writing code for a company. The requirement of the company is that you create a python \n",
    "function that will check whether the password entered by the user is correct or not. The function should \n",
    "take the password as input and return the string “Valid Password” if the entered password follows the \n",
    "below-given password guidelines else it should return “Invalid Password”.\n",
    "\n",
    "\n",
    "\n",
    "Note: \n",
    "1. The Password should contain at least TWO uppercase letters and at least TWO lowercase letters.\n",
    "\n",
    "2. The Password should contain at least a number and THREE special characters.\n",
    "\n",
    "3. The LENGTH of the password should be 10 characters long."
   ]
  },
  {
   "cell_type": "code",
   "execution_count": 30,
   "metadata": {},
   "outputs": [
    {
     "data": {
      "text/plain": [
       "'Invalid Password'"
      ]
     },
     "execution_count": 30,
     "metadata": {},
     "output_type": "execute_result"
    }
   ],
   "source": [
    "def pswd_crit(pswd):\n",
    "    sp_ch = '[@_!#$%^&*()<>?/\\|}{~:]'\n",
    "    up_case_cnt = 0                    # 2 or more\n",
    "    low_case_cnt = 0                   # 2 or more\n",
    "    sp_ch_cnt = 0                      # 3 or more\n",
    "    num_cnt = 0                        # 1 or more       and len(pswd) == 10\n",
    "    valid = 'Invalid Password'\n",
    "    for i in pswd:\n",
    "        if i.isupper() == True:\n",
    "            up_case_cnt+=1\n",
    "        if i.islower() == True:\n",
    "            low_case_cnt+=1\n",
    "        if i in sp_ch:\n",
    "            sp_ch_cnt+=1\n",
    "        if i.isnumeric() == True:\n",
    "            num_cnt+=1\n",
    "    if up_case_cnt>=2 and low_case_cnt>=2 and sp_ch_cnt>=3 and num_cnt>=1 and len(pswd) == 10:\n",
    "        valid = 'Valid Password'\n",
    "    return valid\n",
    "\n",
    "# Valid example\n",
    "# pswd_crit('ABcd@#$123') # returns 'valid password'\n",
    "\n",
    "# Invalid example\n",
    "pswd_crit('Abcd@#$123') # returns 'Invalid password'"
   ]
  },
  {
   "cell_type": "markdown",
   "metadata": {},
   "source": [
    "# "
   ]
  },
  {
   "cell_type": "markdown",
   "metadata": {},
   "source": [
    "Q2. Solve the below-given questions using at least one of the following: \n",
    "\n",
    "1. Lambda function\n",
    "\n",
    "2. Filter function\n",
    "\n",
    "3. Map function\n",
    "\n",
    "4. List Comprehensio\n",
    "\n",
    " Check if the string starts with a particular letter\n",
    " \n",
    " Check if the string is numeric\n",
    " \n",
    " Sort a list of tuples having ruit names and their quantity. [(\"mango\",99),(\"orange\",80), (\"grapes\", 1000)\n",
    " \n",
    " Find the squares of numbers from 1 to 10\n",
    " \n",
    " Find the cube root of numbers from 1 to 10\n",
    " \n",
    " Check if a given number is even\n",
    " \n",
    " Filter odd numbers from the given list.\n",
    "[1,2,3,4,5,6,7,8,9,10]\n",
    "\n",
    " Sort a list of integers into positive and negative integers lists.\n",
    "[1,2,3,4,5,6,-1,-2,-3,-4,-5,0]"
   ]
  },
  {
   "cell_type": "code",
   "execution_count": 5,
   "metadata": {},
   "outputs": [
    {
     "name": "stdout",
     "output_type": "stream",
     "text": [
      "True\n"
     ]
    }
   ],
   "source": [
    "### Check if the string starts with a particular letter say m or M\n",
    "\n",
    "starts_with_m = lambda x : True if x.lower().startswith('m') else False\n",
    "print(starts_with_m('MANJUNATH'))"
   ]
  },
  {
   "cell_type": "markdown",
   "metadata": {},
   "source": [
    "## "
   ]
  },
  {
   "cell_type": "code",
   "execution_count": 8,
   "metadata": {},
   "outputs": [
    {
     "name": "stdout",
     "output_type": "stream",
     "text": [
      "True\n"
     ]
    }
   ],
   "source": [
    "### Check if the string is numeric\n",
    "\n",
    "num_str = lambda x : True if x.isnumeric() else False\n",
    "print(num_str('12563'))"
   ]
  },
  {
   "cell_type": "markdown",
   "metadata": {},
   "source": [
    "## "
   ]
  },
  {
   "cell_type": "code",
   "execution_count": 68,
   "metadata": {},
   "outputs": [
    {
     "name": "stdout",
     "output_type": "stream",
     "text": [
      "Sorte List:  [('orange', 80), ('mango', 99), ('grapes', 1000)]\n"
     ]
    }
   ],
   "source": [
    "# Sort a list of tuples having fruit names and their quantity. \n",
    "# [(\"mango\",99),(\"orange\",80), (\"grapes\", 1000)]\n",
    "\n",
    "l=[(\"mango\",99),(\"orange\",80), (\"grapes\", 1000)]\n",
    "sorted_list = sorted(l,key=lambda x:x[1])\n",
    "print(\"Sorte List: \",sorted_list)"
   ]
  },
  {
   "cell_type": "markdown",
   "metadata": {},
   "source": [
    "## "
   ]
  },
  {
   "cell_type": "code",
   "execution_count": 66,
   "metadata": {},
   "outputs": [
    {
     "name": "stdout",
     "output_type": "stream",
     "text": [
      "Square list:  [1, 4, 9, 16, 25, 36, 49, 64, 81, 100]\n"
     ]
    }
   ],
   "source": [
    "# Find the squares of numbers from 1 to 10\n",
    "# using list comprehension\n",
    "l = [i**2 for i in range(1,11)]\n",
    "print(\"Square list: \", l)"
   ]
  },
  {
   "cell_type": "code",
   "execution_count": 67,
   "metadata": {},
   "outputs": [
    {
     "name": "stdout",
     "output_type": "stream",
     "text": [
      "Square list:  [1, 4, 9, 16, 25, 36, 49, 64, 81, 100]\n"
     ]
    }
   ],
   "source": [
    "# Find the squares of numbers from 1 to 10\n",
    "# using map\n",
    "l = range(1,11)\n",
    "sq_l=list(map(lambda x: x**2,l))\n",
    "print(\"Square list: \", sq_l)"
   ]
  },
  {
   "cell_type": "markdown",
   "metadata": {},
   "source": [
    "## "
   ]
  },
  {
   "cell_type": "code",
   "execution_count": 65,
   "metadata": {},
   "outputs": [
    {
     "name": "stdout",
     "output_type": "stream",
     "text": [
      "Cube roots list:  [1.0, 1.2599210498948732, 1.4422495703074083, 1.5874010519681994, 1.7099759466766968, 1.8171205928321397, 1.912931182772389, 2.0, 2.080083823051904, 2.154434690031884]\n"
     ]
    }
   ],
   "source": [
    "# Find the cube root of numbers from 1 to 10\n",
    "# using list comprehension\n",
    "l = [i**(1/3) for i in range(1,11)]\n",
    "print(\"Cube roots list: \",l)"
   ]
  },
  {
   "cell_type": "code",
   "execution_count": 64,
   "metadata": {},
   "outputs": [
    {
     "name": "stdout",
     "output_type": "stream",
     "text": [
      "Cube roots list:  [1.0, 1.2599210498948732, 1.4422495703074083, 1.5874010519681994, 1.7099759466766968, 1.8171205928321397, 1.912931182772389, 2.0, 2.080083823051904, 2.154434690031884]\n"
     ]
    }
   ],
   "source": [
    "# Find the cube root of numbers from 1 to 10\n",
    "# using map\n",
    "l = range(1,11)\n",
    "cube_root=list(map(lambda x: x**(1/3),l))\n",
    "print(\"Cube roots list: \",cube_root)"
   ]
  },
  {
   "cell_type": "markdown",
   "metadata": {},
   "source": [
    "# "
   ]
  },
  {
   "cell_type": "code",
   "execution_count": 44,
   "metadata": {},
   "outputs": [
    {
     "name": "stdout",
     "output_type": "stream",
     "text": [
      "Even number\n"
     ]
    }
   ],
   "source": [
    "# Check if a given number is even\n",
    "N = lambda x:\"Even number\" if x%2 ==0 else \"odd number\"\n",
    "\n",
    "print(N(4))"
   ]
  },
  {
   "cell_type": "markdown",
   "metadata": {},
   "source": [
    "# "
   ]
  },
  {
   "cell_type": "code",
   "execution_count": 63,
   "metadata": {},
   "outputs": [
    {
     "name": "stdout",
     "output_type": "stream",
     "text": [
      "Odd_list:  [1, 3, 5, 7, 9]\n"
     ]
    }
   ],
   "source": [
    "# Filter odd numbers from the given list.\n",
    "l= [1,2,3,4,5,6,7,8,9,10]\n",
    "odd_l = list(filter((lambda x: x%2!=0),l))\n",
    "print(\"Odd_list: \",odd_l)"
   ]
  },
  {
   "cell_type": "markdown",
   "metadata": {},
   "source": [
    "# "
   ]
  },
  {
   "cell_type": "code",
   "execution_count": 62,
   "metadata": {},
   "outputs": [
    {
     "name": "stdout",
     "output_type": "stream",
     "text": [
      "Original list:  [1, 2, 3, 4, 5, 6, -1, -2, -3, -4, -5, 0]\n",
      "Positive list:  [1, 2, 3, 4, 5, 6]\n",
      "Negative list:  [-1, -2, -3, -4, -5]\n"
     ]
    }
   ],
   "source": [
    "# Sort a list of integers into positive and negative integers lists.\n",
    "l = [1,2,3,4,5,6,-1,-2,-3,-4,-5,0]\n",
    "Pstv_l = list(filter(lambda x : x>0,l))\n",
    "Ngtv_l = list(filter(lambda x : x<0,l))\n",
    "print(\"Original list: \",l)\n",
    "print(\"Positive list: \",Pstv_l)\n",
    "print(\"Negative list: \",Ngtv_l)"
   ]
  },
  {
   "cell_type": "code",
   "execution_count": null,
   "metadata": {},
   "outputs": [],
   "source": []
  }
 ],
 "metadata": {
  "kernelspec": {
   "display_name": "Python 3",
   "language": "python",
   "name": "python3"
  },
  "language_info": {
   "codemirror_mode": {
    "name": "ipython",
    "version": 3
   },
   "file_extension": ".py",
   "mimetype": "text/x-python",
   "name": "python",
   "nbconvert_exporter": "python",
   "pygments_lexer": "ipython3",
   "version": "3.8.5"
  }
 },
 "nbformat": 4,
 "nbformat_minor": 4
}
