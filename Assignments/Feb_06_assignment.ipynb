{
 "cells": [
  {
   "cell_type": "markdown",
   "metadata": {},
   "source": [
    "\n",
    "Q1. Create a function which will take a list as an argument and return the product of all the numbers \n",
    "after creating a flat list.\n",
    "\n",
    "Use the below-given list as an argument for your function.\n",
    "\n",
    "list1 = [1,2,3,4, [44,55,66, True], False, (34,56,78,89,34), {1,2,3,3,2,1}, {1:34, \"key2\": [55, 67, 78, 89], 4: (45, \n",
    "22, 61, 34)}, [56, 'data science'], 'Machine Learning']\n",
    "\n",
    "\n",
    "Note: you must extract numeric keys and values of the dictionary also."
   ]
  },
  {
   "cell_type": "code",
   "execution_count": 88,
   "metadata": {},
   "outputs": [
    {
     "data": {
      "text/plain": [
       "4134711838987085478833841242112000"
      ]
     },
     "execution_count": 88,
     "metadata": {},
     "output_type": "execute_result"
    }
   ],
   "source": [
    "def product_list(lst):    \n",
    "    from functools import reduce\n",
    "    flat_lst = []\n",
    "    for i in lst:\n",
    "        if type(i)==tuple or type(i)==set or type(i)==list:\n",
    "            for p in i:\n",
    "                if type(p) == int:\n",
    "                    flat_lst.append(p)\n",
    "        \n",
    "        elif type(i)==dict:\n",
    "            l=list(i.items())\n",
    "            for j in l:\n",
    "                if type(j)==tuple or type(j)==set or type(j)==list:\n",
    "                    for k in j:\n",
    "                        if type(k)==tuple or type(k)==set or type(k)==list:\n",
    "                            for m in k:\n",
    "                                if type(m)==int:\n",
    "                                    flat_lst.append(m)\n",
    "                        if type(k)==int:\n",
    "                            flat_lst.append(k)\n",
    "                if type(j)==int:\n",
    "                    flat_lst.append(j)\n",
    "        elif type(i)==int:\n",
    "            flat_lst.append(i)\n",
    "    return reduce(lambda x,y: x*y,flat_lst)\n",
    "\n",
    "# Given list\n",
    "l1 = [1,2,3,4, [44,55,66, True], False, (34,56,78,89,34), {1,2,3,3,2,1}, {1:34, \"key2\": [55, 67, 78, 89], 4: (45, 22, 61, 34)}, [56, 'data science'], 'Machine Learning']\n",
    "# calling function\n",
    "product_list(l1)"
   ]
  },
  {
   "cell_type": "markdown",
   "metadata": {},
   "source": [
    "# "
   ]
  },
  {
   "cell_type": "markdown",
   "metadata": {},
   "source": [
    "Q2. Write a python program for encrypting a message sent to you by your friend. The logic of encryption \n",
    "should be such that, for a the output should be z. For b, the output should be y. For c, the output should \n",
    "be x respectively. Also, the whitespace should be replaced with a dollar sign. Keep the punctuation \n",
    "marks unchanged.\n",
    "\n",
    "a --> z\n",
    "\n",
    "b --> y\n",
    "\n",
    "c --> x\n",
    "\n",
    "' ' --> $\n",
    "\n",
    "\n",
    "Input Sentence: I want to become a Data Scientist.\n",
    "\n",
    "\n",
    "\n",
    "Encrypt the above input sentence using the program you just created.\n",
    "\n",
    "\n",
    "\n",
    "Note: Convert the given input sentence into lowercase before encrypting. The final output should be \n",
    "lowercase."
   ]
  },
  {
   "cell_type": "code",
   "execution_count": 108,
   "metadata": {},
   "outputs": [
    {
     "data": {
      "text/plain": [
       "'I$wznt$to$yexome$z$Dztz$Sxientist.'"
      ]
     },
     "execution_count": 108,
     "metadata": {},
     "output_type": "execute_result"
    }
   ],
   "source": [
    "def encrypt(string):\n",
    "    encoded = ''\n",
    "    for i in string:\n",
    "        if i.lower() == 'a':\n",
    "            encoded+='z'\n",
    "        elif i.lower() == 'b':\n",
    "            encoded+='y'\n",
    "        elif i.lower() == 'c':\n",
    "            encoded+='x'\n",
    "        elif i.lower() == ' ':\n",
    "            encoded+='$'\n",
    "        else:\n",
    "            encoded+=i\n",
    "    return encoded\n",
    "\n",
    "# input string\n",
    "s = 'I want to become a Data Scientist.'\n",
    "# calling function\n",
    "encrypt(s)"
   ]
  },
  {
   "cell_type": "code",
   "execution_count": null,
   "metadata": {},
   "outputs": [],
   "source": []
  }
 ],
 "metadata": {
  "kernelspec": {
   "display_name": "Python 3",
   "language": "python",
   "name": "python3"
  },
  "language_info": {
   "codemirror_mode": {
    "name": "ipython",
    "version": 3
   },
   "file_extension": ".py",
   "mimetype": "text/x-python",
   "name": "python",
   "nbconvert_exporter": "python",
   "pygments_lexer": "ipython3",
   "version": "3.8.5"
  }
 },
 "nbformat": 4,
 "nbformat_minor": 4
}
