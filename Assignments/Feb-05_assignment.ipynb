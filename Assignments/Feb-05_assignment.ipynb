{
 "cells": [
  {
   "cell_type": "markdown",
   "id": "790056bd-8bb5-45be-844a-3bb4be2e225b",
   "metadata": {},
   "source": [
    "Q1. Explain Class and Object with respect to Object-Oriented Programming. Give a suitable example."
   ]
  },
  {
   "cell_type": "markdown",
   "id": "b6cd1174-afff-4763-b37f-ac19324c492e",
   "metadata": {},
   "source": [
    "A class is a blueprint for creating objects, providing initial values like atributes and implementations of behaviour.\n",
    "\n",
    "For example we can create class named Person with atributes like name , age and address and behaviour of introducing oneself."
   ]
  },
  {
   "cell_type": "code",
   "execution_count": 11,
   "id": "0587f7ae-18a0-4a32-a4a2-c32ef2052053",
   "metadata": {},
   "outputs": [],
   "source": [
    "class person:\n",
    "    def __init__(self,name,age,address):\n",
    "        self.name = name\n",
    "        self.age = age\n",
    "        self.address = address\n",
    "    def introduce(self):\n",
    "        print(f\"my name is {self.name}, my age is {self.age} and i am from {self.address}\")"
   ]
  },
  {
   "cell_type": "markdown",
   "id": "4d92fd9d-da57-4454-921c-055bf3b58249",
   "metadata": {},
   "source": [
    "Objects are instances of class and we can create multiple objects with the same class as follows\n",
    "2 persons (objects) named 'manju' and 'chaitanya' are created using 'person' class"
   ]
  },
  {
   "cell_type": "code",
   "execution_count": 15,
   "id": "2b4ca01c-35e4-4337-a122-725b6563648b",
   "metadata": {},
   "outputs": [],
   "source": [
    "manju = person(\"manju\",29,'Bangalore')\n",
    "chaitanya = person(\"chaitanya\",26,\"Bangalore\")"
   ]
  },
  {
   "cell_type": "code",
   "execution_count": 13,
   "id": "b073d20f-6996-416e-b3e6-2d1ee55f785b",
   "metadata": {},
   "outputs": [
    {
     "name": "stdout",
     "output_type": "stream",
     "text": [
      "my name is manju, my age is 29 and i am from Bangalore\n"
     ]
    }
   ],
   "source": [
    "manju.introduce()"
   ]
  },
  {
   "cell_type": "code",
   "execution_count": 16,
   "id": "6a0b1043-0424-4627-bec8-dacc591e8ccf",
   "metadata": {},
   "outputs": [
    {
     "name": "stdout",
     "output_type": "stream",
     "text": [
      "my name is chaitanya, my age is 26 and i am from Bangalore\n"
     ]
    }
   ],
   "source": [
    "chaitanya.introduce()"
   ]
  },
  {
   "cell_type": "markdown",
   "id": "b81b71e6-edec-4953-a403-368d0800b61d",
   "metadata": {},
   "source": [
    "#"
   ]
  },
  {
   "cell_type": "markdown",
   "id": "1af79bd0-3d96-4a93-a5ed-95ceb412837c",
   "metadata": {},
   "source": [
    "Q2. Name the four pillars of OOPs."
   ]
  },
  {
   "cell_type": "markdown",
   "id": "bb3c9a1f-a8fe-41d9-89d1-3907351c8072",
   "metadata": {},
   "source": [
    "1. Inheritance  2.Polymorphism  3.Encapsulation  and  4.Abstraction"
   ]
  },
  {
   "cell_type": "markdown",
   "id": "c22dc052-d866-4c8b-83d9-4355d00e00d7",
   "metadata": {},
   "source": [
    "#"
   ]
  },
  {
   "cell_type": "markdown",
   "id": "9409b608-c0c6-457d-83b0-3c4bfbbedd33",
   "metadata": {},
   "source": [
    "Q3. Explain why the __init__() function is used. Give a suitable example."
   ]
  },
  {
   "cell_type": "markdown",
   "id": "1f0040e0-1f67-4993-a28e-b22234926b9f",
   "metadata": {},
   "source": [
    "__init__ is a special method and is called constructor, It gets activated or called when an object is created using class, it is used to setup, initialize or assign default values for attributes of objects"
   ]
  },
  {
   "cell_type": "markdown",
   "id": "543f2249-9e91-4187-b730-7f66cc0345c5",
   "metadata": {},
   "source": [
    "# Example\n",
    "class person:\n",
    "    def __init__(self,name,age,address):\n",
    "        self.name = name\n",
    "        self.age = age\n",
    "        self.address = address\n",
    "    def introduce(self):\n",
    "        print(f\"my name is {self.name}, my age is {self.age} and i am from {self.address}\")"
   ]
  },
  {
   "cell_type": "code",
   "execution_count": 21,
   "id": "6da9195f-ec5a-46ab-9730-1427b30eb151",
   "metadata": {},
   "outputs": [],
   "source": [
    "manju = person('manju',29,'bangalore')\n",
    "# Here object 'manju' is created using class 'person', now __init__ will be called from the class and it assigns values to the object variable i.e  \n",
    "# self.name = 'manju'\n",
    "# self.age = 29\n",
    "# self.address = 'bangalore'"
   ]
  },
  {
   "cell_type": "code",
   "execution_count": 22,
   "id": "6a2e062c-1d11-415c-bdae-fa4c5687ce4f",
   "metadata": {},
   "outputs": [
    {
     "data": {
      "text/plain": [
       "'bangalore'"
      ]
     },
     "execution_count": 22,
     "metadata": {},
     "output_type": "execute_result"
    }
   ],
   "source": [
    "manju.address"
   ]
  },
  {
   "cell_type": "markdown",
   "id": "cc732d30-d79d-4e36-aa6f-8f47cfc0680a",
   "metadata": {},
   "source": [
    "#"
   ]
  },
  {
   "cell_type": "markdown",
   "id": "f1bdb40f-d954-4757-be80-f4fa88325fda",
   "metadata": {},
   "source": [
    "Q4. Why self is used in OOPs?"
   ]
  },
  {
   "cell_type": "markdown",
   "id": "9ee1469a-294a-43f5-a698-91866bc1d9d1",
   "metadata": {},
   "source": [
    "In OOPs, whenever we define methods for a class, we use self as the first parameter in each case. This self is used to represent the instance of the class. With this keyword, you can access the attributes and methods of the class in python."
   ]
  },
  {
   "cell_type": "markdown",
   "id": "b014be60-f6a7-47c3-9893-dcc25949dc2e",
   "metadata": {},
   "source": [
    "#"
   ]
  },
  {
   "cell_type": "markdown",
   "id": "cd0d3724-7867-48d0-8d96-c70b20c1440f",
   "metadata": {},
   "source": [
    "Q5. What is inheritance? Give an example for each type of inheritance."
   ]
  },
  {
   "cell_type": "markdown",
   "id": "0abc0795-bf89-4690-ad9c-22105d8bfbff",
   "metadata": {},
   "source": [
    "Inheritance is a mechanism in which one class acquires the property of another class. For example, a child inherits the traits of his/her parents.With inheritance, we can reuse the fields and methods of the existing class. Hence, inheritance facilitates Reusability \n",
    "\n",
    "Types of Inheritance:\n",
    "1. Single inheritance: In this type of inheritance, a subclass inherits the attributes and behaviors from a single base class. For example, in a scenario where a \"Bird\" class is the base class and a \"Parrot\" class is the derived class, the \"Parrot\" class would inherit the attributes and behaviors of the \"Bird\" class.\n",
    "\n",
    "2. Multiple inheritance: In this type of inheritance, a subclass inherits the attributes and behaviors from multiple base classes. For example, in a scenario where a \"Mammal\" class and a \"Flying\" class are base classes and a \"Bat\" class is the derived class, the \"Bat\" class would inherit the attributes and behaviors of both the \"Mammal\" and \"Flying\" classes.\n",
    "\n",
    "3. Multi-level inheritance: In this type of inheritance, a subclass inherits from a derived class, which in turn inherits from a base class. For example, in a scenario where a \"Animal\" class is the base class, a \"Bird\" class is a derived class, and a \"Parrot\" class is another derived class, the \"Parrot\" class would inherit the attributes and behaviors of both the \"Bird\" class and the \"Animal\" class.\n",
    "\n",
    "4. Hierarchical inheritance: In this type of inheritance, multiple derived classes inherit from a single base class. For example, in a scenario where a \"Animal\" class is the base class and \"Cat\", \"Dog\", and \"Horse\" classes are derived classes, all the derived classes would inherit the attributes and behaviors of the \"Animal\" class.\n",
    "\n",
    "5. Hybrid inheritance: In this type of inheritance, a combination of two or more types of inheritance is used in a single program. For example, a scenario where a \"Vehicle\" class is the base class, a \"FourWheeler\" class and a \"TwoWheeler\" class are derived classes, and a \"Car\" class and a \"Bike\" class are further derived classes, the \"Car\" class would inherit the attributes and behaviors of both the \"FourWheeler\" and \"Vehicle\" classes, and the \"Bike\" class would inherit the attributes and behaviors of both the \"TwoWheeler\" and \"Vehicle\" classes.\n"
   ]
  },
  {
   "cell_type": "code",
   "execution_count": null,
   "id": "10f06df4-5df8-4ebb-bac4-b9095dc013f8",
   "metadata": {},
   "outputs": [],
   "source": []
  }
 ],
 "metadata": {
  "kernelspec": {
   "display_name": "Python 3 (ipykernel)",
   "language": "python",
   "name": "python3"
  },
  "language_info": {
   "codemirror_mode": {
    "name": "ipython",
    "version": 3
   },
   "file_extension": ".py",
   "mimetype": "text/x-python",
   "name": "python",
   "nbconvert_exporter": "python",
   "pygments_lexer": "ipython3",
   "version": "3.10.8"
  }
 },
 "nbformat": 4,
 "nbformat_minor": 5
}
