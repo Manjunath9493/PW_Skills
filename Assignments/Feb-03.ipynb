{
 "cells": [
  {
   "cell_type": "code",
   "execution_count": 10,
   "id": "211fd673-261c-4ccf-8ce6-6e1c60df08c6",
   "metadata": {},
   "outputs": [
    {
     "data": {
      "text/plain": [
       "[1, 3, 5, 7, 9, 11, 13, 15, 17, 19, 21, 23]"
      ]
     },
     "execution_count": 10,
     "metadata": {},
     "output_type": "execute_result"
    }
   ],
   "source": [
    "# Q1. Which keyword is used to create a function? Create a function to return a list of odd numbers in the range of 1 to 25.\n",
    "# def keyword is used to create fumction\n",
    "def odd(n):\n",
    "    oddlist = []\n",
    "    for i in range(n):\n",
    "        if i%2!=0:\n",
    "            oddlist.append(i)\n",
    "    return oddlist\n",
    "# Calling function\n",
    "odd(25)"
   ]
  },
  {
   "cell_type": "markdown",
   "id": "046165b1-3d5e-4d31-bbc7-21f2a1a68a3e",
   "metadata": {},
   "source": [
    "#"
   ]
  },
  {
   "cell_type": "code",
   "execution_count": 12,
   "id": "1ce7dc47-5c38-40b9-be27-cc9a9253b9da",
   "metadata": {},
   "outputs": [
    {
     "data": {
      "text/plain": [
       "(1, 2, 3, 'manju', 5.66, {1, 2, 3}, [5, 6, 'abc'], (1, 2, 3), {'x': 123})"
      ]
     },
     "execution_count": 12,
     "metadata": {},
     "output_type": "execute_result"
    }
   ],
   "source": [
    "# Q2. Why *args and **kwargs is used in some functions? Create a function each for *args and **kwargs to demonstrate their use.\n",
    "\"\"\" *args is used in place of parameters, and is used when there is need of creating a function for which we might have to pass undefined parameters (individual values)\n",
    "*kwargs is also used when there is need of creating a function for which we might have to pass undefined parameters in the form of key value pairs \"\"\"\n",
    " \n",
    "# *args\n",
    "def args(*args):\n",
    "    return args\n",
    "# Calling args function\n",
    "args(1,2,3,'manju',5.66,{1,2,3},[5,6,'abc'],(1,2,3),{'x':123})"
   ]
  },
  {
   "cell_type": "code",
   "execution_count": 18,
   "id": "2b6f0a96-2b8b-44d4-8b31-d1b5fba22ba5",
   "metadata": {},
   "outputs": [
    {
     "data": {
      "text/plain": [
       "{'a': 1, 'b': 5.5, 'c': {1, 3}, 'd': (5,), 'e': {'c': 5}}"
      ]
     },
     "execution_count": 18,
     "metadata": {},
     "output_type": "execute_result"
    }
   ],
   "source": [
    "# *kwargs\n",
    "def kwargs(**kwargs):\n",
    "    return kwargs\n",
    "\n",
    "# Calling kwargs function\n",
    "kwargs(a=1,b=5.5,c={1,3},d=(5,),e={'c':5})"
   ]
  },
  {
   "cell_type": "markdown",
   "id": "4c8bbc6f-c456-4088-9a6c-0dd7fc763d85",
   "metadata": {},
   "source": [
    "#"
   ]
  },
  {
   "cell_type": "code",
   "execution_count": 22,
   "id": "23033210-d518-4219-9e1e-813658b5d7b0",
   "metadata": {},
   "outputs": [
    {
     "name": "stdout",
     "output_type": "stream",
     "text": [
      "2\n",
      "4\n",
      "6\n",
      "8\n",
      "10\n"
     ]
    }
   ],
   "source": [
    "# Q3. What is an iterator in python? Name the method used to initialise the iterator object and the method used for iteration. \n",
    "# Use these methods to print the first five elements of the given list [2, 4, 6, 8, 10, 12, 14, 16, 18, 20].\n",
    "\n",
    "\"\"\" Iterator is an object used to iterate over itearable objects like lists,strings,tuples etc \"\"\"\n",
    "\"\"\" To iterate, it uses 2 methods iter() to start iteration and next() to continue iteration \"\"\"\n",
    "\n",
    "l = [2, 4, 6, 8, 10, 12, 14, 16, 18, 20]\n",
    "l_iter = iter(l)\n",
    "print(next(l_iter))  # 1st element\n",
    "print(next(l_iter))  # 2nd element\n",
    "print(next(l_iter))  # 3rd element\n",
    "print(next(l_iter))  # 4th element\n",
    "print(next(l_iter))  # 5th element"
   ]
  },
  {
   "cell_type": "markdown",
   "id": "64416962-5829-4dfa-82fd-e2e7b4924ff2",
   "metadata": {},
   "source": [
    "#"
   ]
  },
  {
   "cell_type": "code",
   "execution_count": 36,
   "id": "79375069-f389-49a7-9c07-691d33832cdc",
   "metadata": {},
   "outputs": [
    {
     "name": "stdout",
     "output_type": "stream",
     "text": [
      "0\n",
      "2\n",
      "4\n",
      "6\n",
      "8\n"
     ]
    }
   ],
   "source": [
    "# Q4. What is a generator function in python? Why yield keyword is used? Give an example of a generator function.\n",
    "\"\"\"A generator function in Python is a special type of function that allows you to create an iterable object.\n",
    "The yield keyword is used to produce a value from the generator function and stop its execution. When the function is resumed, \n",
    "it continues from where it left off and produces the next value until the generator is exhausted. \"\"\"\n",
    "#Example\n",
    "def even(n):\n",
    "    for i in range(n):\n",
    "        if i%2==0:\n",
    "            yield i\n",
    "            \n",
    "# Printing\n",
    "for i in even(10):\n",
    "    print(i)"
   ]
  },
  {
   "cell_type": "markdown",
   "id": "14d4777a-4c0c-4ee9-87de-ddfccf818c1d",
   "metadata": {},
   "source": [
    "#"
   ]
  },
  {
   "cell_type": "code",
   "execution_count": 68,
   "id": "6eed71d2-3864-40f4-bb52-429fa6333be6",
   "metadata": {},
   "outputs": [],
   "source": [
    "# Q5. Create a generator function for prime numbers less than 1000. Use the next() method to print the first 20 prime numbers.\n",
    "def gnrt(n):\n",
    "    for i in range(2,n):\n",
    "        prime = True\n",
    "        for j in range(2,i//2):\n",
    "            if i%j==0:\n",
    "                prime  = False\n",
    "        if prime == True:\n",
    "            yield i"
   ]
  },
  {
   "cell_type": "code",
   "execution_count": 76,
   "id": "b7b0b4f8-7a90-4587-9d40-b5ccaf5352ab",
   "metadata": {},
   "outputs": [
    {
     "name": "stdout",
     "output_type": "stream",
     "text": [
      "1 --> 2\n",
      "2 --> 3\n",
      "3 --> 4\n",
      "4 --> 5\n",
      "5 --> 7\n",
      "6 --> 11\n",
      "7 --> 13\n",
      "8 --> 17\n",
      "9 --> 19\n",
      "10 --> 23\n",
      "11 --> 29\n",
      "12 --> 31\n",
      "13 --> 37\n",
      "14 --> 41\n",
      "15 --> 43\n",
      "16 --> 47\n",
      "17 --> 53\n",
      "18 --> 59\n",
      "19 --> 61\n",
      "20 --> 67\n"
     ]
    }
   ],
   "source": [
    "x = gnrt(1000)\n",
    "print(1,\"-->\", next(x)) \n",
    "print(2,\"-->\", next(x)) \n",
    "print(3,\"-->\", next(x)) \n",
    "print(4,\"-->\", next(x))\n",
    "print(5,\"-->\", next(x))\n",
    "print(6,\"-->\", next(x))\n",
    "print(7,\"-->\", next(x))\n",
    "print(8,\"-->\", next(x))\n",
    "print(9,\"-->\", next(x))\n",
    "print(10,\"-->\", next(x))\n",
    "print(11,\"-->\", next(x))\n",
    "print(12,\"-->\", next(x))\n",
    "print(13,\"-->\", next(x))\n",
    "print(14,\"-->\", next(x))\n",
    "print(15,\"-->\", next(x))\n",
    "print(16,\"-->\", next(x))\n",
    "print(17,\"-->\", next(x))\n",
    "print(18,\"-->\", next(x))\n",
    "print(19,\"-->\", next(x))\n",
    "print(20,\"-->\", next(x))"
   ]
  },
  {
   "cell_type": "code",
   "execution_count": null,
   "id": "10212634-e976-4182-b312-048f64642a8f",
   "metadata": {},
   "outputs": [],
   "source": []
  }
 ],
 "metadata": {
  "kernelspec": {
   "display_name": "Python 3 (ipykernel)",
   "language": "python",
   "name": "python3"
  },
  "language_info": {
   "codemirror_mode": {
    "name": "ipython",
    "version": 3
   },
   "file_extension": ".py",
   "mimetype": "text/x-python",
   "name": "python",
   "nbconvert_exporter": "python",
   "pygments_lexer": "ipython3",
   "version": "3.10.8"
  }
 },
 "nbformat": 4,
 "nbformat_minor": 5
}
