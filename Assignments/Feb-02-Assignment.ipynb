{
 "cells": [
  {
   "cell_type": "markdown",
   "id": "71fc67ba-d4fc-4ef5-ae60-e82ecb9dfb7d",
   "metadata": {},
   "source": [
    "### Q1. What are the characteristics of the tuples? Is tuple immutable?\n",
    "Ans: \n",
    "1. Tuples are immutable i.e elements in the tuples can not be updated using their indices\n",
    "2. Allows duplicates\n",
    "3. Are Ordered collection i.e have indices for each element"
   ]
  },
  {
   "cell_type": "markdown",
   "id": "def07ee0-b71f-4b83-b9a8-db650155b0ec",
   "metadata": {},
   "source": [
    "##"
   ]
  },
  {
   "cell_type": "markdown",
   "id": "5875751c-641f-42bf-8a02-0231ec34a20a",
   "metadata": {},
   "source": [
    "### Q2. What are the two tuple methods in python? Give an example of each method. Give a reason why tuples have only two in-built methods as compared to Lists.\n",
    "The 2 tuple methods available are 'count' and 'index'\n",
    "##### count --> Returns number of occurence of the entered element in the given tuple\n",
    "Ex. \n",
    "###### tpl = (1,2,5,3,5,5,6,6,5,8)\n",
    "###### tpl.count(5)\n",
    "\n",
    "will return 4, as there are two 5 in the tuple tpl\n",
    "\n",
    "##### index --> Returns index of the passed element in the given tuple for its first occurence\n",
    "Ex.\n",
    "###### tpl = (1,2,5,3,6,5,8)\n",
    "###### tpl.index(5)\n",
    "\n",
    "will return 2, as first 5 is in index 2 (other one is at index 5, but it always returns first occurence index)\n",
    "\n",
    "Python tuple is having only these two methods, because tuples are immutable i.e once created its elements can not be changed,\n",
    "this design is intentional to avoid accidental changes in the values or to represent fixed set of values.\n",
    "So, tuple methods allows us only to search and count the elements"
   ]
  },
  {
   "cell_type": "code",
   "execution_count": 6,
   "id": "d614a4f3-9259-447d-a6a0-2653a59af610",
   "metadata": {},
   "outputs": [
    {
     "data": {
      "text/plain": [
       "4"
      ]
     },
     "execution_count": 6,
     "metadata": {},
     "output_type": "execute_result"
    }
   ],
   "source": [
    "tpl = (1,2,5,3,5,5,6,6,5,8)\n",
    "tpl.count(5)"
   ]
  },
  {
   "cell_type": "code",
   "execution_count": 7,
   "id": "05bb79c6-7582-4df8-b5c0-44941d36b336",
   "metadata": {},
   "outputs": [
    {
     "data": {
      "text/plain": [
       "2"
      ]
     },
     "execution_count": 7,
     "metadata": {},
     "output_type": "execute_result"
    }
   ],
   "source": [
    "tpl = (1,2,5,3,6,5,8)\n",
    "tpl.index(5)"
   ]
  },
  {
   "cell_type": "markdown",
   "id": "68cd3331-2e8d-4918-99b6-c1db8669d617",
   "metadata": {},
   "source": [
    "## "
   ]
  },
  {
   "cell_type": "markdown",
   "id": "840b1170-1b48-42b5-b147-75e2c0465739",
   "metadata": {},
   "source": [
    "### Q3. Which collection datatypes in python do not allow duplicate items? Write a code using a set to remove duplicates from the given list.\n",
    "List = [1, 1, 1, 2, 1, 3, 1, 4, 2, 1, 2, 2, 2, 3, 2, 4, 3, 1, 3, 2, 3, 3, 3, 4, 4, 1, 4, 2, 4, 3, 4, 4]\n",
    "\n",
    "##### Ans: Sets does not allow duplicates\n",
    "##### Unique_el_list = list(set(List))\n",
    "##### Unique_el_list\n",
    "\n",
    "will return list of unique elements in ascending order of their values i.e [1,2,3,4]"
   ]
  },
  {
   "cell_type": "code",
   "execution_count": 13,
   "id": "7569d2ec-49e1-425a-ad68-28e24e52bf85",
   "metadata": {},
   "outputs": [],
   "source": [
    "List = [1, 1, 1, 2, 1, 3, 1, 4, 2, 1, 2, 2, 2, 3, 2, 4, 3, 1, 3, 2, 3, 3, 3, 4, 4, 1, 4, 2, 4, 3, 4, 4]"
   ]
  },
  {
   "cell_type": "code",
   "execution_count": 14,
   "id": "076fb284-03a4-4c99-b363-6b8f4f968456",
   "metadata": {},
   "outputs": [],
   "source": [
    "Unique_el_list = list(set(List))"
   ]
  },
  {
   "cell_type": "code",
   "execution_count": 15,
   "id": "ea67ee04-2937-4622-9427-83bf40d73c26",
   "metadata": {},
   "outputs": [
    {
     "data": {
      "text/plain": [
       "[1, 2, 3, 4]"
      ]
     },
     "execution_count": 15,
     "metadata": {},
     "output_type": "execute_result"
    }
   ],
   "source": [
    "Unique_el_list"
   ]
  },
  {
   "cell_type": "markdown",
   "id": "ca4f8b1b-8e7e-4058-8715-e93e05f398ab",
   "metadata": {},
   "source": [
    "##"
   ]
  },
  {
   "cell_type": "markdown",
   "id": "05793643-18f9-4591-8293-993fda20aa28",
   "metadata": {},
   "source": [
    "### Q4. Explain the difference between the union() and update() methods for a set. Give an example of each method.\n",
    "\n",
    "###### Union --> will combine the unique elements in both sets, and returns combined set but is not in-place operation i.e will not change original list until it assigned\n",
    "Ex.\n",
    "##### s1 = {1,2,3,5}\n",
    "##### s2 = {2,5,3,8,6}\n",
    "##### s1.union(s2)\n",
    "will return {1,2,3,6,8}, but it is not changing the set s1, but when \n",
    "##### s1 = s1.union(s2)\n",
    "here assigning happenned, so s1 set gets permanently changed\n",
    " \n",
    "###### update --> it is inplace operation, will combine the unique elements in both sets, and returns combined set (done permenent change)\n",
    "###### s2.update(s1)\n",
    "will return {1,2,3,6,8}, and it is changing the set s2 permanently"
   ]
  },
  {
   "cell_type": "markdown",
   "id": "078da9d6-b209-433b-bb39-38a379ad0887",
   "metadata": {},
   "source": [
    "### "
   ]
  },
  {
   "cell_type": "markdown",
   "id": "7a4c6050-1460-45c9-88e6-bcc53925fdce",
   "metadata": {},
   "source": [
    "### Q5. What is a dictionary? Give an example. Also, state whether a dictionary is ordered or unordered.\n",
    "##### Ans: Dictionary is the collection of key value pairs and is defined using { }\n",
    "#####      Dictionary is ordered in latest python versions,  In python 3.6 or earlier it was unordered "
   ]
  },
  {
   "cell_type": "markdown",
   "id": "866b35db-2608-4121-859c-6bb6a9eb7b17",
   "metadata": {},
   "source": [
    "##"
   ]
  },
  {
   "cell_type": "markdown",
   "id": "aad3c258-5d10-4896-8026-50a0d2082c5f",
   "metadata": {},
   "source": [
    "### Q6. Can we create a nested dictionary? If so, please give an example by creating a simple one-level nested dictionary.\n",
    "\n",
    "##### Ans: Yes, we can create nested dictionary, but nesting of dictionaty can happen in values but not in keys"
   ]
  },
  {
   "cell_type": "code",
   "execution_count": 26,
   "id": "17613c8e-8357-4ec4-b41e-4114c20a2424",
   "metadata": {},
   "outputs": [],
   "source": [
    "# example:\n",
    "dct = {'Key1':'value1', 'dict':{'this':'is','nested':'dictionary'}, 'list':['this','is','nested','list'], 'set': {'this','is','nested','set'}, 'tuple':('this','is','nested','tuple')}"
   ]
  },
  {
   "cell_type": "code",
   "execution_count": 27,
   "id": "9f5bdc35-be82-49ea-aac0-5ca741c3d006",
   "metadata": {},
   "outputs": [
    {
     "data": {
      "text/plain": [
       "{'this': 'is', 'nested': 'dictionary'}"
      ]
     },
     "execution_count": 27,
     "metadata": {},
     "output_type": "execute_result"
    }
   ],
   "source": [
    "dct['dict']"
   ]
  },
  {
   "cell_type": "markdown",
   "id": "5a508074-c185-4640-b21e-ad10d56da79f",
   "metadata": {},
   "source": [
    "## "
   ]
  },
  {
   "cell_type": "markdown",
   "id": "be649633-f4e4-4b87-b3f2-b0310ba32c36",
   "metadata": {},
   "source": [
    "### Q7. Using setdefault() method, create key named topics in the given dictionary and also add the value of the key as this list ['Python', 'Machine Learning', 'Deep Learning']\n",
    "dict1 = {'language': 'Python', 'course': 'Data Science Masters'}"
   ]
  },
  {
   "cell_type": "code",
   "execution_count": 28,
   "id": "87254393-ab56-486b-a50b-8011dfdf2597",
   "metadata": {},
   "outputs": [],
   "source": [
    "dict1 = {'language': 'Python', 'course': 'Data Science Masters'}"
   ]
  },
  {
   "cell_type": "code",
   "execution_count": 29,
   "id": "d313f1de-483c-4adc-b5f9-1d4c39026257",
   "metadata": {},
   "outputs": [
    {
     "data": {
      "text/plain": [
       "['Python', 'Machine Learning', 'Deep Learning']"
      ]
     },
     "execution_count": 29,
     "metadata": {},
     "output_type": "execute_result"
    }
   ],
   "source": [
    "dict1.setdefault('topics',['Python', 'Machine Learning', 'Deep Learning'])"
   ]
  },
  {
   "cell_type": "code",
   "execution_count": 32,
   "id": "4e78b96c-027c-4654-9b19-9acb0fa5b4d7",
   "metadata": {},
   "outputs": [
    {
     "data": {
      "text/plain": [
       "['Python', 'Machine Learning', 'Deep Learning']"
      ]
     },
     "execution_count": 32,
     "metadata": {},
     "output_type": "execute_result"
    }
   ],
   "source": [
    "dict1['topics']"
   ]
  },
  {
   "cell_type": "code",
   "execution_count": 35,
   "id": "c0c03d02-b60f-4701-b82a-af22eb264c69",
   "metadata": {},
   "outputs": [
    {
     "data": {
      "text/plain": [
       "'Python'"
      ]
     },
     "execution_count": 35,
     "metadata": {},
     "output_type": "execute_result"
    }
   ],
   "source": [
    "x = dict1.setdefault('language',['Python', 'Machine Learning', 'Deep Learning'])\n",
    "x  # returns value of key if key exists else 2nd parameters gets displayed"
   ]
  },
  {
   "cell_type": "markdown",
   "id": "cfcab85f-0146-4a02-93c1-3fbe0711edbd",
   "metadata": {},
   "source": [
    "###"
   ]
  },
  {
   "cell_type": "markdown",
   "id": "ae3c316f-8d06-4970-91de-9a8c7d310286",
   "metadata": {},
   "source": [
    "### Q8. What are the three view objects in dictionaries? Use the three in-built methods in python to display these three view objects for the given dictionary.\n",
    "dict2 = {'Sport': 'Cricket', 'Teams': ['India', 'Australia', 'England', 'South Africa', 'Sri Lanka', 'New Zealand']}\n",
    "\n",
    "##### The 3 View objects are keys, values and items"
   ]
  },
  {
   "cell_type": "code",
   "execution_count": 36,
   "id": "398aaa46-f1e5-4c26-9dc7-22e3622f9321",
   "metadata": {},
   "outputs": [],
   "source": [
    "dict2 = {'Sport': 'Cricket', 'Teams': ['India', 'Australia', 'England', 'South Africa', 'Sri Lanka', 'New Zealand']}"
   ]
  },
  {
   "cell_type": "code",
   "execution_count": 37,
   "id": "ab9d2522-6198-4e73-bd5b-0c1eb75fc8e7",
   "metadata": {},
   "outputs": [
    {
     "data": {
      "text/plain": [
       "dict_keys(['Sport', 'Teams'])"
      ]
     },
     "execution_count": 37,
     "metadata": {},
     "output_type": "execute_result"
    }
   ],
   "source": [
    "dict2.keys()  # displays key in the dictionay"
   ]
  },
  {
   "cell_type": "code",
   "execution_count": 38,
   "id": "0488e940-a1a9-4611-8cad-54556b352dad",
   "metadata": {},
   "outputs": [
    {
     "data": {
      "text/plain": [
       "dict_values(['Cricket', ['India', 'Australia', 'England', 'South Africa', 'Sri Lanka', 'New Zealand']])"
      ]
     },
     "execution_count": 38,
     "metadata": {},
     "output_type": "execute_result"
    }
   ],
   "source": [
    "dict2.values() # Displays values in the dictionary"
   ]
  },
  {
   "cell_type": "code",
   "execution_count": 39,
   "id": "3ca44679-d8b2-439d-8317-3014cdfe9210",
   "metadata": {},
   "outputs": [
    {
     "data": {
      "text/plain": [
       "dict_items([('Sport', 'Cricket'), ('Teams', ['India', 'Australia', 'England', 'South Africa', 'Sri Lanka', 'New Zealand'])])"
      ]
     },
     "execution_count": 39,
     "metadata": {},
     "output_type": "execute_result"
    }
   ],
   "source": [
    "dict2.items() # displays key values pairs in the dictionary"
   ]
  },
  {
   "cell_type": "code",
   "execution_count": null,
   "id": "ddb81552-aaa8-4442-a01d-50e7477f3fa6",
   "metadata": {},
   "outputs": [],
   "source": []
  }
 ],
 "metadata": {
  "kernelspec": {
   "display_name": "Python 3 (ipykernel)",
   "language": "python",
   "name": "python3"
  },
  "language_info": {
   "codemirror_mode": {
    "name": "ipython",
    "version": 3
   },
   "file_extension": ".py",
   "mimetype": "text/x-python",
   "name": "python",
   "nbconvert_exporter": "python",
   "pygments_lexer": "ipython3",
   "version": "3.10.8"
  }
 },
 "nbformat": 4,
 "nbformat_minor": 5
}
